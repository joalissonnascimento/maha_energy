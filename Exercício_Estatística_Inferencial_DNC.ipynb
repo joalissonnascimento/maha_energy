{
  "cells": [
    {
      "cell_type": "markdown",
      "metadata": {
        "id": "view-in-github",
        "colab_type": "text"
      },
      "source": [
        "<a href=\"https://colab.research.google.com/github/joalissonnascimento/maha_energy/blob/main/Exerc%C3%ADcio_Estat%C3%ADstica_Inferencial_DNC.ipynb\" target=\"_parent\"><img src=\"https://colab.research.google.com/assets/colab-badge.svg\" alt=\"Open In Colab\"/></a>"
      ]
    },
    {
      "cell_type": "markdown",
      "source": [
        "# Import e Conhecendo os dados"
      ],
      "metadata": {
        "id": "kLrY19gWG0Us"
      }
    },
    {
      "cell_type": "code",
      "execution_count": null,
      "metadata": {
        "id": "qC5sACf1v1Qe"
      },
      "outputs": [],
      "source": [
        "# Importação das bibliotecas\n",
        "from google.colab import files\n",
        "\n",
        "import numpy as np\n",
        "import pandas as pd\n",
        "\n",
        "import seaborn as sns\n",
        "import matplotlib.pyplot as plt\n",
        "\n",
        "from scipy import stats"
      ]
    },
    {
      "cell_type": "code",
      "execution_count": null,
      "metadata": {
        "id": "qJPJdg7-v17E",
        "colab": {
          "base_uri": "https://localhost:8080/",
          "height": 206
        },
        "outputId": "0a25c5af-e1f1-4de5-a29d-a936372f2907"
      },
      "outputs": [
        {
          "output_type": "execute_result",
          "data": {
            "text/plain": [
              "   Store        Date  Weekly_Sales  Holiday_Flag  Temperature  Fuel_Price  \\\n",
              "0      1  05-02-2010    1643690.90             0        42.31       2.572   \n",
              "1      1  12-02-2010    1641957.44             1        38.51       2.548   \n",
              "2      1  19-02-2010    1611968.17             0        39.93       2.514   \n",
              "3      1  26-02-2010    1409727.59             0        46.63       2.561   \n",
              "4      1  05-03-2010    1554806.68             0        46.50       2.625   \n",
              "\n",
              "          CPI  Unemployment  \n",
              "0  211.096358         8.106  \n",
              "1  211.242170         8.106  \n",
              "2  211.289143         8.106  \n",
              "3  211.319643         8.106  \n",
              "4  211.350143         8.106  "
            ],
            "text/html": [
              "\n",
              "  <div id=\"df-ed374748-087a-43bb-8a44-d7313134aab3\">\n",
              "    <div class=\"colab-df-container\">\n",
              "      <div>\n",
              "<style scoped>\n",
              "    .dataframe tbody tr th:only-of-type {\n",
              "        vertical-align: middle;\n",
              "    }\n",
              "\n",
              "    .dataframe tbody tr th {\n",
              "        vertical-align: top;\n",
              "    }\n",
              "\n",
              "    .dataframe thead th {\n",
              "        text-align: right;\n",
              "    }\n",
              "</style>\n",
              "<table border=\"1\" class=\"dataframe\">\n",
              "  <thead>\n",
              "    <tr style=\"text-align: right;\">\n",
              "      <th></th>\n",
              "      <th>Store</th>\n",
              "      <th>Date</th>\n",
              "      <th>Weekly_Sales</th>\n",
              "      <th>Holiday_Flag</th>\n",
              "      <th>Temperature</th>\n",
              "      <th>Fuel_Price</th>\n",
              "      <th>CPI</th>\n",
              "      <th>Unemployment</th>\n",
              "    </tr>\n",
              "  </thead>\n",
              "  <tbody>\n",
              "    <tr>\n",
              "      <th>0</th>\n",
              "      <td>1</td>\n",
              "      <td>05-02-2010</td>\n",
              "      <td>1643690.90</td>\n",
              "      <td>0</td>\n",
              "      <td>42.31</td>\n",
              "      <td>2.572</td>\n",
              "      <td>211.096358</td>\n",
              "      <td>8.106</td>\n",
              "    </tr>\n",
              "    <tr>\n",
              "      <th>1</th>\n",
              "      <td>1</td>\n",
              "      <td>12-02-2010</td>\n",
              "      <td>1641957.44</td>\n",
              "      <td>1</td>\n",
              "      <td>38.51</td>\n",
              "      <td>2.548</td>\n",
              "      <td>211.242170</td>\n",
              "      <td>8.106</td>\n",
              "    </tr>\n",
              "    <tr>\n",
              "      <th>2</th>\n",
              "      <td>1</td>\n",
              "      <td>19-02-2010</td>\n",
              "      <td>1611968.17</td>\n",
              "      <td>0</td>\n",
              "      <td>39.93</td>\n",
              "      <td>2.514</td>\n",
              "      <td>211.289143</td>\n",
              "      <td>8.106</td>\n",
              "    </tr>\n",
              "    <tr>\n",
              "      <th>3</th>\n",
              "      <td>1</td>\n",
              "      <td>26-02-2010</td>\n",
              "      <td>1409727.59</td>\n",
              "      <td>0</td>\n",
              "      <td>46.63</td>\n",
              "      <td>2.561</td>\n",
              "      <td>211.319643</td>\n",
              "      <td>8.106</td>\n",
              "    </tr>\n",
              "    <tr>\n",
              "      <th>4</th>\n",
              "      <td>1</td>\n",
              "      <td>05-03-2010</td>\n",
              "      <td>1554806.68</td>\n",
              "      <td>0</td>\n",
              "      <td>46.50</td>\n",
              "      <td>2.625</td>\n",
              "      <td>211.350143</td>\n",
              "      <td>8.106</td>\n",
              "    </tr>\n",
              "  </tbody>\n",
              "</table>\n",
              "</div>\n",
              "      <button class=\"colab-df-convert\" onclick=\"convertToInteractive('df-ed374748-087a-43bb-8a44-d7313134aab3')\"\n",
              "              title=\"Convert this dataframe to an interactive table.\"\n",
              "              style=\"display:none;\">\n",
              "        \n",
              "  <svg xmlns=\"http://www.w3.org/2000/svg\" height=\"24px\"viewBox=\"0 0 24 24\"\n",
              "       width=\"24px\">\n",
              "    <path d=\"M0 0h24v24H0V0z\" fill=\"none\"/>\n",
              "    <path d=\"M18.56 5.44l.94 2.06.94-2.06 2.06-.94-2.06-.94-.94-2.06-.94 2.06-2.06.94zm-11 1L8.5 8.5l.94-2.06 2.06-.94-2.06-.94L8.5 2.5l-.94 2.06-2.06.94zm10 10l.94 2.06.94-2.06 2.06-.94-2.06-.94-.94-2.06-.94 2.06-2.06.94z\"/><path d=\"M17.41 7.96l-1.37-1.37c-.4-.4-.92-.59-1.43-.59-.52 0-1.04.2-1.43.59L10.3 9.45l-7.72 7.72c-.78.78-.78 2.05 0 2.83L4 21.41c.39.39.9.59 1.41.59.51 0 1.02-.2 1.41-.59l7.78-7.78 2.81-2.81c.8-.78.8-2.07 0-2.86zM5.41 20L4 18.59l7.72-7.72 1.47 1.35L5.41 20z\"/>\n",
              "  </svg>\n",
              "      </button>\n",
              "      \n",
              "  <style>\n",
              "    .colab-df-container {\n",
              "      display:flex;\n",
              "      flex-wrap:wrap;\n",
              "      gap: 12px;\n",
              "    }\n",
              "\n",
              "    .colab-df-convert {\n",
              "      background-color: #E8F0FE;\n",
              "      border: none;\n",
              "      border-radius: 50%;\n",
              "      cursor: pointer;\n",
              "      display: none;\n",
              "      fill: #1967D2;\n",
              "      height: 32px;\n",
              "      padding: 0 0 0 0;\n",
              "      width: 32px;\n",
              "    }\n",
              "\n",
              "    .colab-df-convert:hover {\n",
              "      background-color: #E2EBFA;\n",
              "      box-shadow: 0px 1px 2px rgba(60, 64, 67, 0.3), 0px 1px 3px 1px rgba(60, 64, 67, 0.15);\n",
              "      fill: #174EA6;\n",
              "    }\n",
              "\n",
              "    [theme=dark] .colab-df-convert {\n",
              "      background-color: #3B4455;\n",
              "      fill: #D2E3FC;\n",
              "    }\n",
              "\n",
              "    [theme=dark] .colab-df-convert:hover {\n",
              "      background-color: #434B5C;\n",
              "      box-shadow: 0px 1px 3px 1px rgba(0, 0, 0, 0.15);\n",
              "      filter: drop-shadow(0px 1px 2px rgba(0, 0, 0, 0.3));\n",
              "      fill: #FFFFFF;\n",
              "    }\n",
              "  </style>\n",
              "\n",
              "      <script>\n",
              "        const buttonEl =\n",
              "          document.querySelector('#df-ed374748-087a-43bb-8a44-d7313134aab3 button.colab-df-convert');\n",
              "        buttonEl.style.display =\n",
              "          google.colab.kernel.accessAllowed ? 'block' : 'none';\n",
              "\n",
              "        async function convertToInteractive(key) {\n",
              "          const element = document.querySelector('#df-ed374748-087a-43bb-8a44-d7313134aab3');\n",
              "          const dataTable =\n",
              "            await google.colab.kernel.invokeFunction('convertToInteractive',\n",
              "                                                     [key], {});\n",
              "          if (!dataTable) return;\n",
              "\n",
              "          const docLinkHtml = 'Like what you see? Visit the ' +\n",
              "            '<a target=\"_blank\" href=https://colab.research.google.com/notebooks/data_table.ipynb>data table notebook</a>'\n",
              "            + ' to learn more about interactive tables.';\n",
              "          element.innerHTML = '';\n",
              "          dataTable['output_type'] = 'display_data';\n",
              "          await google.colab.output.renderOutput(dataTable, element);\n",
              "          const docLink = document.createElement('div');\n",
              "          docLink.innerHTML = docLinkHtml;\n",
              "          element.appendChild(docLink);\n",
              "        }\n",
              "      </script>\n",
              "    </div>\n",
              "  </div>\n",
              "  "
            ]
          },
          "metadata": {},
          "execution_count": 5
        }
      ],
      "source": [
        "# Upload dos dados\n",
        "df = pd.read_csv('/content/Walmart 2.csv')\n",
        "df.head()"
      ]
    },
    {
      "cell_type": "code",
      "source": [
        "# Preview da qualidade dos dados\n",
        "df.info()"
      ],
      "metadata": {
        "id": "U1RloeQk__nd",
        "colab": {
          "base_uri": "https://localhost:8080/"
        },
        "outputId": "64cbcf0e-5a24-48f7-dc43-738cdfda2aa7"
      },
      "execution_count": null,
      "outputs": [
        {
          "output_type": "stream",
          "name": "stdout",
          "text": [
            "<class 'pandas.core.frame.DataFrame'>\n",
            "RangeIndex: 6435 entries, 0 to 6434\n",
            "Data columns (total 8 columns):\n",
            " #   Column        Non-Null Count  Dtype  \n",
            "---  ------        --------------  -----  \n",
            " 0   Store         6435 non-null   int64  \n",
            " 1   Date          6435 non-null   object \n",
            " 2   Weekly_Sales  6435 non-null   float64\n",
            " 3   Holiday_Flag  6435 non-null   int64  \n",
            " 4   Temperature   6435 non-null   float64\n",
            " 5   Fuel_Price    6435 non-null   float64\n",
            " 6   CPI           6435 non-null   float64\n",
            " 7   Unemployment  6435 non-null   float64\n",
            "dtypes: float64(5), int64(2), object(1)\n",
            "memory usage: 402.3+ KB\n"
          ]
        }
      ]
    },
    {
      "cell_type": "markdown",
      "source": [
        "\n",
        "\n",
        "Você precisa avaliar a performance global das vendas semanais das lojas do Wallmart. Porém, o processo de estração de dados é devagar e custoso, por isso não seria possível recolher todas as vendas semanais do ano para fazer uma estimativa com precisão de 100%. A única saída é realizar uma amostragem dos dados de uma loja e em cima disso calcular o intervalo de confiança das vendas para que os superioes tenham uma noção da média das vendas da loja.\n",
        "\n",
        "Pratique os conceitos de amostragem vistos na revisão dentro do dataset e ao final, calcule o intervalo de confiança para uma amostra de 25 e outra de 50 das vendas semanais da loja 20. O valor encontrado está dentro da média populacional da loja 20?"
      ],
      "metadata": {
        "id": "NoMDuIWW_3Xi"
      }
    },
    {
      "cell_type": "markdown",
      "source": [
        "#**Etapa 1**\n"
      ],
      "metadata": {
        "id": "tVs6Ryps9Hm4"
      }
    },
    {
      "cell_type": "markdown",
      "source": [
        "\n",
        "Nessa etapa iremos importar os dados e bibliotecas e verificar as vendas por loja\n",
        "\n",
        "\n",
        "1.  Importar as bibliotecas e os dados\n",
        "2.  Analisar os dados\n",
        "3.  Verifique as vendas semanais por loja\n",
        "4. Verifique se as vendas em período de feriado tem uma variação maior\n",
        "\n",
        "\n",
        "\n",
        "\n",
        "\n",
        "\n"
      ],
      "metadata": {
        "id": "kf4vkW1z9P2F"
      }
    },
    {
      "cell_type": "markdown",
      "source": [
        "#**Etapa 2**#"
      ],
      "metadata": {
        "id": "LnaBLejz9oBc"
      }
    },
    {
      "cell_type": "markdown",
      "source": [
        "Nessa etapa iremos verificar os tipos de amostragem\n",
        "\n",
        "\n",
        "\n",
        "1. Verifique as amostras (Simples, sistemática, estratificada e clusterizada)\n",
        "\n",
        "\n"
      ],
      "metadata": {
        "id": "p9FEP52r-Vcu"
      }
    },
    {
      "cell_type": "markdown",
      "source": [
        "#**Etapa 3 (PLUS)**#"
      ],
      "metadata": {
        "id": "RIQh018h_B_F"
      }
    },
    {
      "cell_type": "markdown",
      "source": [
        "Vamos analisar os dados das lojas conforme solicitado acima\n",
        "\n",
        "\n",
        "\n",
        "1. Verificando as 20 lojas conforme solicitado utilizando distribuição normal\n",
        "\n",
        "2. Filtrando o dataset e plotando seu histograma\n",
        "\n",
        "3. Realizando o teste com amostragem aleatória simples com 25 amostras\n",
        "4. Verificando a média da população\n",
        "5. Visualizando a distruibuição por dados com ele são\n",
        "\n",
        "6. Visualizando a distribuição dos dados aplicando o teorema do limite central\n",
        "\n",
        "7. Realizando o teste com uma amostragem aleatória simples com 50 amostras -> Teorema do Limite Central -> Teste Normal\n",
        "\n",
        "8. Verificando a média da população\n",
        "\n"
      ],
      "metadata": {
        "id": "6xUlrHnv_HBD"
      }
    },
    {
      "cell_type": "markdown",
      "metadata": {
        "id": "IcVa7VlmS6lH"
      },
      "source": [
        "# Etapa 01\n",
        "\n"
      ]
    },
    {
      "cell_type": "markdown",
      "metadata": {
        "id": "-0aJvykDhAes"
      },
      "source": [
        "## População"
      ]
    },
    {
      "cell_type": "code",
      "source": [
        "# Todos os dados possíveis\n",
        "df"
      ],
      "metadata": {
        "id": "J8a9lShMG4bH",
        "colab": {
          "base_uri": "https://localhost:8080/",
          "height": 424
        },
        "outputId": "b24980b3-bea5-41d1-90e5-562d08590a1a"
      },
      "execution_count": null,
      "outputs": [
        {
          "output_type": "execute_result",
          "data": {
            "text/plain": [
              "      Store        Date  Weekly_Sales  Holiday_Flag  Temperature  Fuel_Price  \\\n",
              "0         1  05-02-2010    1643690.90             0        42.31       2.572   \n",
              "1         1  12-02-2010    1641957.44             1        38.51       2.548   \n",
              "2         1  19-02-2010    1611968.17             0        39.93       2.514   \n",
              "3         1  26-02-2010    1409727.59             0        46.63       2.561   \n",
              "4         1  05-03-2010    1554806.68             0        46.50       2.625   \n",
              "...     ...         ...           ...           ...          ...         ...   \n",
              "6430     45  28-09-2012     713173.95             0        64.88       3.997   \n",
              "6431     45  05-10-2012     733455.07             0        64.89       3.985   \n",
              "6432     45  12-10-2012     734464.36             0        54.47       4.000   \n",
              "6433     45  19-10-2012     718125.53             0        56.47       3.969   \n",
              "6434     45  26-10-2012     760281.43             0        58.85       3.882   \n",
              "\n",
              "             CPI  Unemployment  \n",
              "0     211.096358         8.106  \n",
              "1     211.242170         8.106  \n",
              "2     211.289143         8.106  \n",
              "3     211.319643         8.106  \n",
              "4     211.350143         8.106  \n",
              "...          ...           ...  \n",
              "6430  192.013558         8.684  \n",
              "6431  192.170412         8.667  \n",
              "6432  192.327265         8.667  \n",
              "6433  192.330854         8.667  \n",
              "6434  192.308899         8.667  \n",
              "\n",
              "[6435 rows x 8 columns]"
            ],
            "text/html": [
              "\n",
              "  <div id=\"df-efcca377-465b-496d-9236-6facd84456e3\">\n",
              "    <div class=\"colab-df-container\">\n",
              "      <div>\n",
              "<style scoped>\n",
              "    .dataframe tbody tr th:only-of-type {\n",
              "        vertical-align: middle;\n",
              "    }\n",
              "\n",
              "    .dataframe tbody tr th {\n",
              "        vertical-align: top;\n",
              "    }\n",
              "\n",
              "    .dataframe thead th {\n",
              "        text-align: right;\n",
              "    }\n",
              "</style>\n",
              "<table border=\"1\" class=\"dataframe\">\n",
              "  <thead>\n",
              "    <tr style=\"text-align: right;\">\n",
              "      <th></th>\n",
              "      <th>Store</th>\n",
              "      <th>Date</th>\n",
              "      <th>Weekly_Sales</th>\n",
              "      <th>Holiday_Flag</th>\n",
              "      <th>Temperature</th>\n",
              "      <th>Fuel_Price</th>\n",
              "      <th>CPI</th>\n",
              "      <th>Unemployment</th>\n",
              "    </tr>\n",
              "  </thead>\n",
              "  <tbody>\n",
              "    <tr>\n",
              "      <th>0</th>\n",
              "      <td>1</td>\n",
              "      <td>05-02-2010</td>\n",
              "      <td>1643690.90</td>\n",
              "      <td>0</td>\n",
              "      <td>42.31</td>\n",
              "      <td>2.572</td>\n",
              "      <td>211.096358</td>\n",
              "      <td>8.106</td>\n",
              "    </tr>\n",
              "    <tr>\n",
              "      <th>1</th>\n",
              "      <td>1</td>\n",
              "      <td>12-02-2010</td>\n",
              "      <td>1641957.44</td>\n",
              "      <td>1</td>\n",
              "      <td>38.51</td>\n",
              "      <td>2.548</td>\n",
              "      <td>211.242170</td>\n",
              "      <td>8.106</td>\n",
              "    </tr>\n",
              "    <tr>\n",
              "      <th>2</th>\n",
              "      <td>1</td>\n",
              "      <td>19-02-2010</td>\n",
              "      <td>1611968.17</td>\n",
              "      <td>0</td>\n",
              "      <td>39.93</td>\n",
              "      <td>2.514</td>\n",
              "      <td>211.289143</td>\n",
              "      <td>8.106</td>\n",
              "    </tr>\n",
              "    <tr>\n",
              "      <th>3</th>\n",
              "      <td>1</td>\n",
              "      <td>26-02-2010</td>\n",
              "      <td>1409727.59</td>\n",
              "      <td>0</td>\n",
              "      <td>46.63</td>\n",
              "      <td>2.561</td>\n",
              "      <td>211.319643</td>\n",
              "      <td>8.106</td>\n",
              "    </tr>\n",
              "    <tr>\n",
              "      <th>4</th>\n",
              "      <td>1</td>\n",
              "      <td>05-03-2010</td>\n",
              "      <td>1554806.68</td>\n",
              "      <td>0</td>\n",
              "      <td>46.50</td>\n",
              "      <td>2.625</td>\n",
              "      <td>211.350143</td>\n",
              "      <td>8.106</td>\n",
              "    </tr>\n",
              "    <tr>\n",
              "      <th>...</th>\n",
              "      <td>...</td>\n",
              "      <td>...</td>\n",
              "      <td>...</td>\n",
              "      <td>...</td>\n",
              "      <td>...</td>\n",
              "      <td>...</td>\n",
              "      <td>...</td>\n",
              "      <td>...</td>\n",
              "    </tr>\n",
              "    <tr>\n",
              "      <th>6430</th>\n",
              "      <td>45</td>\n",
              "      <td>28-09-2012</td>\n",
              "      <td>713173.95</td>\n",
              "      <td>0</td>\n",
              "      <td>64.88</td>\n",
              "      <td>3.997</td>\n",
              "      <td>192.013558</td>\n",
              "      <td>8.684</td>\n",
              "    </tr>\n",
              "    <tr>\n",
              "      <th>6431</th>\n",
              "      <td>45</td>\n",
              "      <td>05-10-2012</td>\n",
              "      <td>733455.07</td>\n",
              "      <td>0</td>\n",
              "      <td>64.89</td>\n",
              "      <td>3.985</td>\n",
              "      <td>192.170412</td>\n",
              "      <td>8.667</td>\n",
              "    </tr>\n",
              "    <tr>\n",
              "      <th>6432</th>\n",
              "      <td>45</td>\n",
              "      <td>12-10-2012</td>\n",
              "      <td>734464.36</td>\n",
              "      <td>0</td>\n",
              "      <td>54.47</td>\n",
              "      <td>4.000</td>\n",
              "      <td>192.327265</td>\n",
              "      <td>8.667</td>\n",
              "    </tr>\n",
              "    <tr>\n",
              "      <th>6433</th>\n",
              "      <td>45</td>\n",
              "      <td>19-10-2012</td>\n",
              "      <td>718125.53</td>\n",
              "      <td>0</td>\n",
              "      <td>56.47</td>\n",
              "      <td>3.969</td>\n",
              "      <td>192.330854</td>\n",
              "      <td>8.667</td>\n",
              "    </tr>\n",
              "    <tr>\n",
              "      <th>6434</th>\n",
              "      <td>45</td>\n",
              "      <td>26-10-2012</td>\n",
              "      <td>760281.43</td>\n",
              "      <td>0</td>\n",
              "      <td>58.85</td>\n",
              "      <td>3.882</td>\n",
              "      <td>192.308899</td>\n",
              "      <td>8.667</td>\n",
              "    </tr>\n",
              "  </tbody>\n",
              "</table>\n",
              "<p>6435 rows × 8 columns</p>\n",
              "</div>\n",
              "      <button class=\"colab-df-convert\" onclick=\"convertToInteractive('df-efcca377-465b-496d-9236-6facd84456e3')\"\n",
              "              title=\"Convert this dataframe to an interactive table.\"\n",
              "              style=\"display:none;\">\n",
              "        \n",
              "  <svg xmlns=\"http://www.w3.org/2000/svg\" height=\"24px\"viewBox=\"0 0 24 24\"\n",
              "       width=\"24px\">\n",
              "    <path d=\"M0 0h24v24H0V0z\" fill=\"none\"/>\n",
              "    <path d=\"M18.56 5.44l.94 2.06.94-2.06 2.06-.94-2.06-.94-.94-2.06-.94 2.06-2.06.94zm-11 1L8.5 8.5l.94-2.06 2.06-.94-2.06-.94L8.5 2.5l-.94 2.06-2.06.94zm10 10l.94 2.06.94-2.06 2.06-.94-2.06-.94-.94-2.06-.94 2.06-2.06.94z\"/><path d=\"M17.41 7.96l-1.37-1.37c-.4-.4-.92-.59-1.43-.59-.52 0-1.04.2-1.43.59L10.3 9.45l-7.72 7.72c-.78.78-.78 2.05 0 2.83L4 21.41c.39.39.9.59 1.41.59.51 0 1.02-.2 1.41-.59l7.78-7.78 2.81-2.81c.8-.78.8-2.07 0-2.86zM5.41 20L4 18.59l7.72-7.72 1.47 1.35L5.41 20z\"/>\n",
              "  </svg>\n",
              "      </button>\n",
              "      \n",
              "  <style>\n",
              "    .colab-df-container {\n",
              "      display:flex;\n",
              "      flex-wrap:wrap;\n",
              "      gap: 12px;\n",
              "    }\n",
              "\n",
              "    .colab-df-convert {\n",
              "      background-color: #E8F0FE;\n",
              "      border: none;\n",
              "      border-radius: 50%;\n",
              "      cursor: pointer;\n",
              "      display: none;\n",
              "      fill: #1967D2;\n",
              "      height: 32px;\n",
              "      padding: 0 0 0 0;\n",
              "      width: 32px;\n",
              "    }\n",
              "\n",
              "    .colab-df-convert:hover {\n",
              "      background-color: #E2EBFA;\n",
              "      box-shadow: 0px 1px 2px rgba(60, 64, 67, 0.3), 0px 1px 3px 1px rgba(60, 64, 67, 0.15);\n",
              "      fill: #174EA6;\n",
              "    }\n",
              "\n",
              "    [theme=dark] .colab-df-convert {\n",
              "      background-color: #3B4455;\n",
              "      fill: #D2E3FC;\n",
              "    }\n",
              "\n",
              "    [theme=dark] .colab-df-convert:hover {\n",
              "      background-color: #434B5C;\n",
              "      box-shadow: 0px 1px 3px 1px rgba(0, 0, 0, 0.15);\n",
              "      filter: drop-shadow(0px 1px 2px rgba(0, 0, 0, 0.3));\n",
              "      fill: #FFFFFF;\n",
              "    }\n",
              "  </style>\n",
              "\n",
              "      <script>\n",
              "        const buttonEl =\n",
              "          document.querySelector('#df-efcca377-465b-496d-9236-6facd84456e3 button.colab-df-convert');\n",
              "        buttonEl.style.display =\n",
              "          google.colab.kernel.accessAllowed ? 'block' : 'none';\n",
              "\n",
              "        async function convertToInteractive(key) {\n",
              "          const element = document.querySelector('#df-efcca377-465b-496d-9236-6facd84456e3');\n",
              "          const dataTable =\n",
              "            await google.colab.kernel.invokeFunction('convertToInteractive',\n",
              "                                                     [key], {});\n",
              "          if (!dataTable) return;\n",
              "\n",
              "          const docLinkHtml = 'Like what you see? Visit the ' +\n",
              "            '<a target=\"_blank\" href=https://colab.research.google.com/notebooks/data_table.ipynb>data table notebook</a>'\n",
              "            + ' to learn more about interactive tables.';\n",
              "          element.innerHTML = '';\n",
              "          dataTable['output_type'] = 'display_data';\n",
              "          await google.colab.output.renderOutput(dataTable, element);\n",
              "          const docLink = document.createElement('div');\n",
              "          docLink.innerHTML = docLinkHtml;\n",
              "          element.appendChild(docLink);\n",
              "        }\n",
              "      </script>\n",
              "    </div>\n",
              "  </div>\n",
              "  "
            ]
          },
          "metadata": {},
          "execution_count": 7
        }
      ]
    },
    {
      "cell_type": "code",
      "source": [
        "# Boxplot das vendas semanais por loja\n",
        "plt.figure(figsize=(20,4))\n",
        "sns.boxplot(data=df,x='Store',y='Weekly_Sales')"
      ],
      "metadata": {
        "id": "6AQsZYisOjqK",
        "colab": {
          "base_uri": "https://localhost:8080/",
          "height": 305
        },
        "outputId": "adc5a8d5-953a-4d1f-9f90-50e1e3bc4506"
      },
      "execution_count": null,
      "outputs": [
        {
          "output_type": "execute_result",
          "data": {
            "text/plain": [
              "<matplotlib.axes._subplots.AxesSubplot at 0x7ff0ecfadb10>"
            ]
          },
          "metadata": {},
          "execution_count": 8
        },
        {
          "output_type": "display_data",
          "data": {
            "text/plain": [
              "<Figure size 1440x288 with 1 Axes>"
            ],
            "image/png": "[encoded data removed]"
          },
          "metadata": {
            "needs_background": "light"
          }
        }
      ]
    },
    {
      "cell_type": "code",
      "source": [
        "# Distribuição das vendas semanais da loja 20\n",
        "sns.histplot(data=df[df.Store == 20],x='Weekly_Sales',kde=True)"
      ],
      "metadata": {
        "id": "0pRxR78xBYVD",
        "colab": {
          "base_uri": "https://localhost:8080/",
          "height": 297
        },
        "outputId": "e31f34e4-2fe6-4365-98be-1e51629d9362"
      },
      "execution_count": null,
      "outputs": [
        {
          "output_type": "execute_result",
          "data": {
            "text/plain": [
              "<matplotlib.axes._subplots.AxesSubplot at 0x7ff0da8e6d50>"
            ]
          },
          "metadata": {},
          "execution_count": 9
        },
        {
          "output_type": "display_data",
          "data": {
            "text/plain": [
              "<Figure size 432x288 with 1 Axes>"
            ],
            "image/png": "[encoded data removed]"
          },
          "metadata": {
            "needs_background": "light"
          }
        }
      ]
    },
    {
      "cell_type": "code",
      "source": [
        "# Verificando se as vendas em período de feriado tem uma variação maior\n",
        "sns.boxplot(data=df,y='Weekly_Sales',x='Holiday_Flag')"
      ],
      "metadata": {
        "id": "j6-VLUjAOn9z",
        "colab": {
          "base_uri": "https://localhost:8080/",
          "height": 308
        },
        "outputId": "e8970a40-fee5-4dcf-90cb-01e067e5d3b6"
      },
      "execution_count": null,
      "outputs": [
        {
          "output_type": "execute_result",
          "data": {
            "text/plain": [
              "<matplotlib.axes._subplots.AxesSubplot at 0x7ff0da86ebd0>"
            ]
          },
          "metadata": {},
          "execution_count": 10
        },
        {
          "output_type": "display_data",
          "data": {
            "text/plain": [
              "<Figure size 432x288 with 1 Axes>"
            ],
            "image/png": "[encoded data removed]"
          },
          "metadata": {
            "needs_background": "light"
          }
        }
      ]
    },
    {
      "cell_type": "markdown",
      "source": [
        "# Etapa 02"
      ],
      "metadata": {
        "id": "tyYTSR_bowS8"
      }
    },
    {
      "cell_type": "markdown",
      "metadata": {
        "id": "bBkfbCMPg6-Q"
      },
      "source": [
        "## Amostragem Simples "
      ]
    },
    {
      "cell_type": "code",
      "source": [
        "# Amostrando simples usando o random_state\n",
        "amostra = df.sample(5, random_state=0)\n",
        "amostra"
      ],
      "metadata": {
        "id": "5UkmnHcYG-rf",
        "colab": {
          "base_uri": "https://localhost:8080/",
          "height": 206
        },
        "outputId": "ebb76a6d-f36d-40cf-b173-94464361e712"
      },
      "execution_count": null,
      "outputs": [
        {
          "output_type": "execute_result",
          "data": {
            "text/plain": [
              "      Store        Date  Weekly_Sales  Holiday_Flag  Temperature  Fuel_Price  \\\n",
              "3949     28  14-10-2011    1220984.94             0        67.31       3.805   \n",
              "4555     32  08-06-2012    1246322.44             0        71.14       3.741   \n",
              "2235     16  28-10-2011     505918.21             0        41.97       3.550   \n",
              "5204     37  04-03-2011     527572.25             0        64.55       3.288   \n",
              "3524     25  11-11-2011     719235.07             0        44.81       3.530   \n",
              "\n",
              "             CPI  Unemployment  \n",
              "3949  129.770645        12.890  \n",
              "4555  197.655186         8.090  \n",
              "2235  195.331898         6.232  \n",
              "5204  212.576205         8.395  \n",
              "3524  210.981020         7.082  "
            ],
            "text/html": [
              "\n",
              "  <div id=\"df-4aa635b7-d94e-4f67-af58-8b5d6518ea66\">\n",
              "    <div class=\"colab-df-container\">\n",
              "      <div>\n",
              "<style scoped>\n",
              "    .dataframe tbody tr th:only-of-type {\n",
              "        vertical-align: middle;\n",
              "    }\n",
              "\n",
              "    .dataframe tbody tr th {\n",
              "        vertical-align: top;\n",
              "    }\n",
              "\n",
              "    .dataframe thead th {\n",
              "        text-align: right;\n",
              "    }\n",
              "</style>\n",
              "<table border=\"1\" class=\"dataframe\">\n",
              "  <thead>\n",
              "    <tr style=\"text-align: right;\">\n",
              "      <th></th>\n",
              "      <th>Store</th>\n",
              "      <th>Date</th>\n",
              "      <th>Weekly_Sales</th>\n",
              "      <th>Holiday_Flag</th>\n",
              "      <th>Temperature</th>\n",
              "      <th>Fuel_Price</th>\n",
              "      <th>CPI</th>\n",
              "      <th>Unemployment</th>\n",
              "    </tr>\n",
              "  </thead>\n",
              "  <tbody>\n",
              "    <tr>\n",
              "      <th>3949</th>\n",
              "      <td>28</td>\n",
              "      <td>14-10-2011</td>\n",
              "      <td>1220984.94</td>\n",
              "      <td>0</td>\n",
              "      <td>67.31</td>\n",
              "      <td>3.805</td>\n",
              "      <td>129.770645</td>\n",
              "      <td>12.890</td>\n",
              "    </tr>\n",
              "    <tr>\n",
              "      <th>4555</th>\n",
              "      <td>32</td>\n",
              "      <td>08-06-2012</td>\n",
              "      <td>1246322.44</td>\n",
              "      <td>0</td>\n",
              "      <td>71.14</td>\n",
              "      <td>3.741</td>\n",
              "      <td>197.655186</td>\n",
              "      <td>8.090</td>\n",
              "    </tr>\n",
              "    <tr>\n",
              "      <th>2235</th>\n",
              "      <td>16</td>\n",
              "      <td>28-10-2011</td>\n",
              "      <td>505918.21</td>\n",
              "      <td>0</td>\n",
              "      <td>41.97</td>\n",
              "      <td>3.550</td>\n",
              "      <td>195.331898</td>\n",
              "      <td>6.232</td>\n",
              "    </tr>\n",
              "    <tr>\n",
              "      <th>5204</th>\n",
              "      <td>37</td>\n",
              "      <td>04-03-2011</td>\n",
              "      <td>527572.25</td>\n",
              "      <td>0</td>\n",
              "      <td>64.55</td>\n",
              "      <td>3.288</td>\n",
              "      <td>212.576205</td>\n",
              "      <td>8.395</td>\n",
              "    </tr>\n",
              "    <tr>\n",
              "      <th>3524</th>\n",
              "      <td>25</td>\n",
              "      <td>11-11-2011</td>\n",
              "      <td>719235.07</td>\n",
              "      <td>0</td>\n",
              "      <td>44.81</td>\n",
              "      <td>3.530</td>\n",
              "      <td>210.981020</td>\n",
              "      <td>7.082</td>\n",
              "    </tr>\n",
              "  </tbody>\n",
              "</table>\n",
              "</div>\n",
              "      <button class=\"colab-df-convert\" onclick=\"convertToInteractive('df-4aa635b7-d94e-4f67-af58-8b5d6518ea66')\"\n",
              "              title=\"Convert this dataframe to an interactive table.\"\n",
              "              style=\"display:none;\">\n",
              "        \n",
              "  <svg xmlns=\"http://www.w3.org/2000/svg\" height=\"24px\"viewBox=\"0 0 24 24\"\n",
              "       width=\"24px\">\n",
              "    <path d=\"M0 0h24v24H0V0z\" fill=\"none\"/>\n",
              "    <path d=\"M18.56 5.44l.94 2.06.94-2.06 2.06-.94-2.06-.94-.94-2.06-.94 2.06-2.06.94zm-11 1L8.5 8.5l.94-2.06 2.06-.94-2.06-.94L8.5 2.5l-.94 2.06-2.06.94zm10 10l.94 2.06.94-2.06 2.06-.94-2.06-.94-.94-2.06-.94 2.06-2.06.94z\"/><path d=\"M17.41 7.96l-1.37-1.37c-.4-.4-.92-.59-1.43-.59-.52 0-1.04.2-1.43.59L10.3 9.45l-7.72 7.72c-.78.78-.78 2.05 0 2.83L4 21.41c.39.39.9.59 1.41.59.51 0 1.02-.2 1.41-.59l7.78-7.78 2.81-2.81c.8-.78.8-2.07 0-2.86zM5.41 20L4 18.59l7.72-7.72 1.47 1.35L5.41 20z\"/>\n",
              "  </svg>\n",
              "      </button>\n",
              "      \n",
              "  <style>\n",
              "    .colab-df-container {\n",
              "      display:flex;\n",
              "      flex-wrap:wrap;\n",
              "      gap: 12px;\n",
              "    }\n",
              "\n",
              "    .colab-df-convert {\n",
              "      background-color: #E8F0FE;\n",
              "      border: none;\n",
              "      border-radius: 50%;\n",
              "      cursor: pointer;\n",
              "      display: none;\n",
              "      fill: #1967D2;\n",
              "      height: 32px;\n",
              "      padding: 0 0 0 0;\n",
              "      width: 32px;\n",
              "    }\n",
              "\n",
              "    .colab-df-convert:hover {\n",
              "      background-color: #E2EBFA;\n",
              "      box-shadow: 0px 1px 2px rgba(60, 64, 67, 0.3), 0px 1px 3px 1px rgba(60, 64, 67, 0.15);\n",
              "      fill: #174EA6;\n",
              "    }\n",
              "\n",
              "    [theme=dark] .colab-df-convert {\n",
              "      background-color: #3B4455;\n",
              "      fill: #D2E3FC;\n",
              "    }\n",
              "\n",
              "    [theme=dark] .colab-df-convert:hover {\n",
              "      background-color: #434B5C;\n",
              "      box-shadow: 0px 1px 3px 1px rgba(0, 0, 0, 0.15);\n",
              "      filter: drop-shadow(0px 1px 2px rgba(0, 0, 0, 0.3));\n",
              "      fill: #FFFFFF;\n",
              "    }\n",
              "  </style>\n",
              "\n",
              "      <script>\n",
              "        const buttonEl =\n",
              "          document.querySelector('#df-4aa635b7-d94e-4f67-af58-8b5d6518ea66 button.colab-df-convert');\n",
              "        buttonEl.style.display =\n",
              "          google.colab.kernel.accessAllowed ? 'block' : 'none';\n",
              "\n",
              "        async function convertToInteractive(key) {\n",
              "          const element = document.querySelector('#df-4aa635b7-d94e-4f67-af58-8b5d6518ea66');\n",
              "          const dataTable =\n",
              "            await google.colab.kernel.invokeFunction('convertToInteractive',\n",
              "                                                     [key], {});\n",
              "          if (!dataTable) return;\n",
              "\n",
              "          const docLinkHtml = 'Like what you see? Visit the ' +\n",
              "            '<a target=\"_blank\" href=https://colab.research.google.com/notebooks/data_table.ipynb>data table notebook</a>'\n",
              "            + ' to learn more about interactive tables.';\n",
              "          element.innerHTML = '';\n",
              "          dataTable['output_type'] = 'display_data';\n",
              "          await google.colab.output.renderOutput(dataTable, element);\n",
              "          const docLink = document.createElement('div');\n",
              "          docLink.innerHTML = docLinkHtml;\n",
              "          element.appendChild(docLink);\n",
              "        }\n",
              "      </script>\n",
              "    </div>\n",
              "  </div>\n",
              "  "
            ]
          },
          "metadata": {},
          "execution_count": 26
        }
      ]
    },
    {
      "cell_type": "code",
      "source": [
        "# Amostrando simples usando o seed\n",
        "np.random.seed(0)\n",
        "amostra = df.sample(5)\n",
        "amostra"
      ],
      "metadata": {
        "id": "KR6zC54WHIPt",
        "colab": {
          "base_uri": "https://localhost:8080/",
          "height": 206
        },
        "outputId": "9e18acfc-a4b0-4ade-e317-7a4fd2a186ef"
      },
      "execution_count": null,
      "outputs": [
        {
          "output_type": "execute_result",
          "data": {
            "text/plain": [
              "      Store        Date  Weekly_Sales  Holiday_Flag  Temperature  Fuel_Price  \\\n",
              "3949     28  14-10-2011    1220984.94             0        67.31       3.805   \n",
              "4555     32  08-06-2012    1246322.44             0        71.14       3.741   \n",
              "2235     16  28-10-2011     505918.21             0        41.97       3.550   \n",
              "5204     37  04-03-2011     527572.25             0        64.55       3.288   \n",
              "3524     25  11-11-2011     719235.07             0        44.81       3.530   \n",
              "\n",
              "             CPI  Unemployment  \n",
              "3949  129.770645        12.890  \n",
              "4555  197.655186         8.090  \n",
              "2235  195.331898         6.232  \n",
              "5204  212.576205         8.395  \n",
              "3524  210.981020         7.082  "
            ],
            "text/html": [
              "\n",
              "  <div id=\"df-0317fb97-144b-4308-a355-6506f4129ab7\">\n",
              "    <div class=\"colab-df-container\">\n",
              "      <div>\n",
              "<style scoped>\n",
              "    .dataframe tbody tr th:only-of-type {\n",
              "        vertical-align: middle;\n",
              "    }\n",
              "\n",
              "    .dataframe tbody tr th {\n",
              "        vertical-align: top;\n",
              "    }\n",
              "\n",
              "    .dataframe thead th {\n",
              "        text-align: right;\n",
              "    }\n",
              "</style>\n",
              "<table border=\"1\" class=\"dataframe\">\n",
              "  <thead>\n",
              "    <tr style=\"text-align: right;\">\n",
              "      <th></th>\n",
              "      <th>Store</th>\n",
              "      <th>Date</th>\n",
              "      <th>Weekly_Sales</th>\n",
              "      <th>Holiday_Flag</th>\n",
              "      <th>Temperature</th>\n",
              "      <th>Fuel_Price</th>\n",
              "      <th>CPI</th>\n",
              "      <th>Unemployment</th>\n",
              "    </tr>\n",
              "  </thead>\n",
              "  <tbody>\n",
              "    <tr>\n",
              "      <th>3949</th>\n",
              "      <td>28</td>\n",
              "      <td>14-10-2011</td>\n",
              "      <td>1220984.94</td>\n",
              "      <td>0</td>\n",
              "      <td>67.31</td>\n",
              "      <td>3.805</td>\n",
              "      <td>129.770645</td>\n",
              "      <td>12.890</td>\n",
              "    </tr>\n",
              "    <tr>\n",
              "      <th>4555</th>\n",
              "      <td>32</td>\n",
              "      <td>08-06-2012</td>\n",
              "      <td>1246322.44</td>\n",
              "      <td>0</td>\n",
              "      <td>71.14</td>\n",
              "      <td>3.741</td>\n",
              "      <td>197.655186</td>\n",
              "      <td>8.090</td>\n",
              "    </tr>\n",
              "    <tr>\n",
              "      <th>2235</th>\n",
              "      <td>16</td>\n",
              "      <td>28-10-2011</td>\n",
              "      <td>505918.21</td>\n",
              "      <td>0</td>\n",
              "      <td>41.97</td>\n",
              "      <td>3.550</td>\n",
              "      <td>195.331898</td>\n",
              "      <td>6.232</td>\n",
              "    </tr>\n",
              "    <tr>\n",
              "      <th>5204</th>\n",
              "      <td>37</td>\n",
              "      <td>04-03-2011</td>\n",
              "      <td>527572.25</td>\n",
              "      <td>0</td>\n",
              "      <td>64.55</td>\n",
              "      <td>3.288</td>\n",
              "      <td>212.576205</td>\n",
              "      <td>8.395</td>\n",
              "    </tr>\n",
              "    <tr>\n",
              "      <th>3524</th>\n",
              "      <td>25</td>\n",
              "      <td>11-11-2011</td>\n",
              "      <td>719235.07</td>\n",
              "      <td>0</td>\n",
              "      <td>44.81</td>\n",
              "      <td>3.530</td>\n",
              "      <td>210.981020</td>\n",
              "      <td>7.082</td>\n",
              "    </tr>\n",
              "  </tbody>\n",
              "</table>\n",
              "</div>\n",
              "      <button class=\"colab-df-convert\" onclick=\"convertToInteractive('df-0317fb97-144b-4308-a355-6506f4129ab7')\"\n",
              "              title=\"Convert this dataframe to an interactive table.\"\n",
              "              style=\"display:none;\">\n",
              "        \n",
              "  <svg xmlns=\"http://www.w3.org/2000/svg\" height=\"24px\"viewBox=\"0 0 24 24\"\n",
              "       width=\"24px\">\n",
              "    <path d=\"M0 0h24v24H0V0z\" fill=\"none\"/>\n",
              "    <path d=\"M18.56 5.44l.94 2.06.94-2.06 2.06-.94-2.06-.94-.94-2.06-.94 2.06-2.06.94zm-11 1L8.5 8.5l.94-2.06 2.06-.94-2.06-.94L8.5 2.5l-.94 2.06-2.06.94zm10 10l.94 2.06.94-2.06 2.06-.94-2.06-.94-.94-2.06-.94 2.06-2.06.94z\"/><path d=\"M17.41 7.96l-1.37-1.37c-.4-.4-.92-.59-1.43-.59-.52 0-1.04.2-1.43.59L10.3 9.45l-7.72 7.72c-.78.78-.78 2.05 0 2.83L4 21.41c.39.39.9.59 1.41.59.51 0 1.02-.2 1.41-.59l7.78-7.78 2.81-2.81c.8-.78.8-2.07 0-2.86zM5.41 20L4 18.59l7.72-7.72 1.47 1.35L5.41 20z\"/>\n",
              "  </svg>\n",
              "      </button>\n",
              "      \n",
              "  <style>\n",
              "    .colab-df-container {\n",
              "      display:flex;\n",
              "      flex-wrap:wrap;\n",
              "      gap: 12px;\n",
              "    }\n",
              "\n",
              "    .colab-df-convert {\n",
              "      background-color: #E8F0FE;\n",
              "      border: none;\n",
              "      border-radius: 50%;\n",
              "      cursor: pointer;\n",
              "      display: none;\n",
              "      fill: #1967D2;\n",
              "      height: 32px;\n",
              "      padding: 0 0 0 0;\n",
              "      width: 32px;\n",
              "    }\n",
              "\n",
              "    .colab-df-convert:hover {\n",
              "      background-color: #E2EBFA;\n",
              "      box-shadow: 0px 1px 2px rgba(60, 64, 67, 0.3), 0px 1px 3px 1px rgba(60, 64, 67, 0.15);\n",
              "      fill: #174EA6;\n",
              "    }\n",
              "\n",
              "    [theme=dark] .colab-df-convert {\n",
              "      background-color: #3B4455;\n",
              "      fill: #D2E3FC;\n",
              "    }\n",
              "\n",
              "    [theme=dark] .colab-df-convert:hover {\n",
              "      background-color: #434B5C;\n",
              "      box-shadow: 0px 1px 3px 1px rgba(0, 0, 0, 0.15);\n",
              "      filter: drop-shadow(0px 1px 2px rgba(0, 0, 0, 0.3));\n",
              "      fill: #FFFFFF;\n",
              "    }\n",
              "  </style>\n",
              "\n",
              "      <script>\n",
              "        const buttonEl =\n",
              "          document.querySelector('#df-0317fb97-144b-4308-a355-6506f4129ab7 button.colab-df-convert');\n",
              "        buttonEl.style.display =\n",
              "          google.colab.kernel.accessAllowed ? 'block' : 'none';\n",
              "\n",
              "        async function convertToInteractive(key) {\n",
              "          const element = document.querySelector('#df-0317fb97-144b-4308-a355-6506f4129ab7');\n",
              "          const dataTable =\n",
              "            await google.colab.kernel.invokeFunction('convertToInteractive',\n",
              "                                                     [key], {});\n",
              "          if (!dataTable) return;\n",
              "\n",
              "          const docLinkHtml = 'Like what you see? Visit the ' +\n",
              "            '<a target=\"_blank\" href=https://colab.research.google.com/notebooks/data_table.ipynb>data table notebook</a>'\n",
              "            + ' to learn more about interactive tables.';\n",
              "          element.innerHTML = '';\n",
              "          dataTable['output_type'] = 'display_data';\n",
              "          await google.colab.output.renderOutput(dataTable, element);\n",
              "          const docLink = document.createElement('div');\n",
              "          docLink.innerHTML = docLinkHtml;\n",
              "          element.appendChild(docLink);\n",
              "        }\n",
              "      </script>\n",
              "    </div>\n",
              "  </div>\n",
              "  "
            ]
          },
          "metadata": {},
          "execution_count": 27
        }
      ]
    },
    {
      "cell_type": "code",
      "source": [
        "# Quantidade de classes distintas na amostra\n",
        "df.Store.unique()"
      ],
      "metadata": {
        "id": "_q1xOmmSHq5n",
        "colab": {
          "base_uri": "https://localhost:8080/"
        },
        "outputId": "d1f18291-9627-482b-9381-766a021460b6"
      },
      "execution_count": null,
      "outputs": [
        {
          "output_type": "execute_result",
          "data": {
            "text/plain": [
              "array([ 1,  2,  3,  4,  5,  6,  7,  8,  9, 10, 11, 12, 13, 14, 15, 16, 17,\n",
              "       18, 19, 20, 21, 22, 23, 24, 25, 26, 27, 28, 29, 30, 31, 32, 33, 34,\n",
              "       35, 36, 37, 38, 39, 40, 41, 42, 43, 44, 45])"
            ]
          },
          "metadata": {},
          "execution_count": 28
        }
      ]
    },
    {
      "cell_type": "code",
      "source": [
        "df.sample(45,random_state=0).Store.unique()"
      ],
      "metadata": {
        "colab": {
          "base_uri": "https://localhost:8080/"
        },
        "id": "5NgSmtwnNbVN",
        "outputId": "98f077c9-a1c9-4fa7-a185-868bde6298e7"
      },
      "execution_count": null,
      "outputs": [
        {
          "output_type": "execute_result",
          "data": {
            "text/plain": [
              "array([28, 32, 16, 37, 25, 22, 31,  8, 15, 38, 44, 24, 10,  2, 36, 35, 12,\n",
              "       42, 45, 23, 30, 27, 11, 20, 17,  7, 19, 26, 14, 43])"
            ]
          },
          "metadata": {},
          "execution_count": 30
        }
      ]
    },
    {
      "cell_type": "markdown",
      "metadata": {
        "id": "d_fHExX3oEVz"
      },
      "source": [
        "## Amostragem Sistemática "
      ]
    },
    {
      "cell_type": "code",
      "source": [
        "# Amostragem sistemática com passo e primeiro valor definidos\n",
        "inicial = 15 - 1\n",
        "passo = 25\n",
        "final = df.shape[0]\n",
        "indices = np.arange(inicial, final, passo)\n",
        "amostra = df.iloc[indices]\n",
        "amostra\n"
      ],
      "metadata": {
        "id": "BMwm9x8rIfJL",
        "colab": {
          "base_uri": "https://localhost:8080/",
          "height": 424
        },
        "outputId": "cda7580f-e4d6-483f-fc2b-fc124bddda5b"
      },
      "execution_count": null,
      "outputs": [
        {
          "output_type": "execute_result",
          "data": {
            "text/plain": [
              "      Store        Date  Weekly_Sales  Holiday_Flag  Temperature  Fuel_Price  \\\n",
              "14        1  14-05-2010    1494251.50             0        74.78       2.854   \n",
              "39        1  05-11-2010    1551659.28             0        58.74       2.689   \n",
              "64        1  29-04-2011    1455090.69             0        72.03       3.810   \n",
              "89        1  21-10-2011    1502562.78             0        63.71       3.353   \n",
              "114       1  13-04-2012    1621031.70             0        69.07       3.891   \n",
              "...     ...         ...           ...           ...          ...         ...   \n",
              "6314     45  09-07-2010     787062.00             0        82.45       2.793   \n",
              "6339     45  31-12-2010     679156.20             1        29.67       3.179   \n",
              "6364     45  24-06-2011     762861.78             0        74.85       3.804   \n",
              "6389     45  16-12-2011    1078905.68             0        39.93       3.413   \n",
              "6414     45  08-06-2012     795133.00             0        64.30       3.689   \n",
              "\n",
              "             CPI  Unemployment  \n",
              "14    210.337426         7.808  \n",
              "39    211.956394         7.838  \n",
              "64    215.627954         7.682  \n",
              "89    217.515976         7.866  \n",
              "114   221.510210         7.143  \n",
              "...          ...           ...  \n",
              "6314  182.256960         8.743  \n",
              "6339  182.571448         8.724  \n",
              "6364  185.791961         8.521  \n",
              "6389  188.797935         8.523  \n",
              "6414  191.015533         8.567  \n",
              "\n",
              "[257 rows x 8 columns]"
            ],
            "text/html": [
              "\n",
              "  <div id=\"df-9c1e08f9-ea4a-4a4c-a81c-9a2d461f0675\">\n",
              "    <div class=\"colab-df-container\">\n",
              "      <div>\n",
              "<style scoped>\n",
              "    .dataframe tbody tr th:only-of-type {\n",
              "        vertical-align: middle;\n",
              "    }\n",
              "\n",
              "    .dataframe tbody tr th {\n",
              "        vertical-align: top;\n",
              "    }\n",
              "\n",
              "    .dataframe thead th {\n",
              "        text-align: right;\n",
              "    }\n",
              "</style>\n",
              "<table border=\"1\" class=\"dataframe\">\n",
              "  <thead>\n",
              "    <tr style=\"text-align: right;\">\n",
              "      <th></th>\n",
              "      <th>Store</th>\n",
              "      <th>Date</th>\n",
              "      <th>Weekly_Sales</th>\n",
              "      <th>Holiday_Flag</th>\n",
              "      <th>Temperature</th>\n",
              "      <th>Fuel_Price</th>\n",
              "      <th>CPI</th>\n",
              "      <th>Unemployment</th>\n",
              "    </tr>\n",
              "  </thead>\n",
              "  <tbody>\n",
              "    <tr>\n",
              "      <th>14</th>\n",
              "      <td>1</td>\n",
              "      <td>14-05-2010</td>\n",
              "      <td>1494251.50</td>\n",
              "      <td>0</td>\n",
              "      <td>74.78</td>\n",
              "      <td>2.854</td>\n",
              "      <td>210.337426</td>\n",
              "      <td>7.808</td>\n",
              "    </tr>\n",
              "    <tr>\n",
              "      <th>39</th>\n",
              "      <td>1</td>\n",
              "      <td>05-11-2010</td>\n",
              "      <td>1551659.28</td>\n",
              "      <td>0</td>\n",
              "      <td>58.74</td>\n",
              "      <td>2.689</td>\n",
              "      <td>211.956394</td>\n",
              "      <td>7.838</td>\n",
              "    </tr>\n",
              "    <tr>\n",
              "      <th>64</th>\n",
              "      <td>1</td>\n",
              "      <td>29-04-2011</td>\n",
              "      <td>1455090.69</td>\n",
              "      <td>0</td>\n",
              "      <td>72.03</td>\n",
              "      <td>3.810</td>\n",
              "      <td>215.627954</td>\n",
              "      <td>7.682</td>\n",
              "    </tr>\n",
              "    <tr>\n",
              "      <th>89</th>\n",
              "      <td>1</td>\n",
              "      <td>21-10-2011</td>\n",
              "      <td>1502562.78</td>\n",
              "      <td>0</td>\n",
              "      <td>63.71</td>\n",
              "      <td>3.353</td>\n",
              "      <td>217.515976</td>\n",
              "      <td>7.866</td>\n",
              "    </tr>\n",
              "    <tr>\n",
              "      <th>114</th>\n",
              "      <td>1</td>\n",
              "      <td>13-04-2012</td>\n",
              "      <td>1621031.70</td>\n",
              "      <td>0</td>\n",
              "      <td>69.07</td>\n",
              "      <td>3.891</td>\n",
              "      <td>221.510210</td>\n",
              "      <td>7.143</td>\n",
              "    </tr>\n",
              "    <tr>\n",
              "      <th>...</th>\n",
              "      <td>...</td>\n",
              "      <td>...</td>\n",
              "      <td>...</td>\n",
              "      <td>...</td>\n",
              "      <td>...</td>\n",
              "      <td>...</td>\n",
              "      <td>...</td>\n",
              "      <td>...</td>\n",
              "    </tr>\n",
              "    <tr>\n",
              "      <th>6314</th>\n",
              "      <td>45</td>\n",
              "      <td>09-07-2010</td>\n",
              "      <td>787062.00</td>\n",
              "      <td>0</td>\n",
              "      <td>82.45</td>\n",
              "      <td>2.793</td>\n",
              "      <td>182.256960</td>\n",
              "      <td>8.743</td>\n",
              "    </tr>\n",
              "    <tr>\n",
              "      <th>6339</th>\n",
              "      <td>45</td>\n",
              "      <td>31-12-2010</td>\n",
              "      <td>679156.20</td>\n",
              "      <td>1</td>\n",
              "      <td>29.67</td>\n",
              "      <td>3.179</td>\n",
              "      <td>182.571448</td>\n",
              "      <td>8.724</td>\n",
              "    </tr>\n",
              "    <tr>\n",
              "      <th>6364</th>\n",
              "      <td>45</td>\n",
              "      <td>24-06-2011</td>\n",
              "      <td>762861.78</td>\n",
              "      <td>0</td>\n",
              "      <td>74.85</td>\n",
              "      <td>3.804</td>\n",
              "      <td>185.791961</td>\n",
              "      <td>8.521</td>\n",
              "    </tr>\n",
              "    <tr>\n",
              "      <th>6389</th>\n",
              "      <td>45</td>\n",
              "      <td>16-12-2011</td>\n",
              "      <td>1078905.68</td>\n",
              "      <td>0</td>\n",
              "      <td>39.93</td>\n",
              "      <td>3.413</td>\n",
              "      <td>188.797935</td>\n",
              "      <td>8.523</td>\n",
              "    </tr>\n",
              "    <tr>\n",
              "      <th>6414</th>\n",
              "      <td>45</td>\n",
              "      <td>08-06-2012</td>\n",
              "      <td>795133.00</td>\n",
              "      <td>0</td>\n",
              "      <td>64.30</td>\n",
              "      <td>3.689</td>\n",
              "      <td>191.015533</td>\n",
              "      <td>8.567</td>\n",
              "    </tr>\n",
              "  </tbody>\n",
              "</table>\n",
              "<p>257 rows × 8 columns</p>\n",
              "</div>\n",
              "      <button class=\"colab-df-convert\" onclick=\"convertToInteractive('df-9c1e08f9-ea4a-4a4c-a81c-9a2d461f0675')\"\n",
              "              title=\"Convert this dataframe to an interactive table.\"\n",
              "              style=\"display:none;\">\n",
              "        \n",
              "  <svg xmlns=\"http://www.w3.org/2000/svg\" height=\"24px\"viewBox=\"0 0 24 24\"\n",
              "       width=\"24px\">\n",
              "    <path d=\"M0 0h24v24H0V0z\" fill=\"none\"/>\n",
              "    <path d=\"M18.56 5.44l.94 2.06.94-2.06 2.06-.94-2.06-.94-.94-2.06-.94 2.06-2.06.94zm-11 1L8.5 8.5l.94-2.06 2.06-.94-2.06-.94L8.5 2.5l-.94 2.06-2.06.94zm10 10l.94 2.06.94-2.06 2.06-.94-2.06-.94-.94-2.06-.94 2.06-2.06.94z\"/><path d=\"M17.41 7.96l-1.37-1.37c-.4-.4-.92-.59-1.43-.59-.52 0-1.04.2-1.43.59L10.3 9.45l-7.72 7.72c-.78.78-.78 2.05 0 2.83L4 21.41c.39.39.9.59 1.41.59.51 0 1.02-.2 1.41-.59l7.78-7.78 2.81-2.81c.8-.78.8-2.07 0-2.86zM5.41 20L4 18.59l7.72-7.72 1.47 1.35L5.41 20z\"/>\n",
              "  </svg>\n",
              "      </button>\n",
              "      \n",
              "  <style>\n",
              "    .colab-df-container {\n",
              "      display:flex;\n",
              "      flex-wrap:wrap;\n",
              "      gap: 12px;\n",
              "    }\n",
              "\n",
              "    .colab-df-convert {\n",
              "      background-color: #E8F0FE;\n",
              "      border: none;\n",
              "      border-radius: 50%;\n",
              "      cursor: pointer;\n",
              "      display: none;\n",
              "      fill: #1967D2;\n",
              "      height: 32px;\n",
              "      padding: 0 0 0 0;\n",
              "      width: 32px;\n",
              "    }\n",
              "\n",
              "    .colab-df-convert:hover {\n",
              "      background-color: #E2EBFA;\n",
              "      box-shadow: 0px 1px 2px rgba(60, 64, 67, 0.3), 0px 1px 3px 1px rgba(60, 64, 67, 0.15);\n",
              "      fill: #174EA6;\n",
              "    }\n",
              "\n",
              "    [theme=dark] .colab-df-convert {\n",
              "      background-color: #3B4455;\n",
              "      fill: #D2E3FC;\n",
              "    }\n",
              "\n",
              "    [theme=dark] .colab-df-convert:hover {\n",
              "      background-color: #434B5C;\n",
              "      box-shadow: 0px 1px 3px 1px rgba(0, 0, 0, 0.15);\n",
              "      filter: drop-shadow(0px 1px 2px rgba(0, 0, 0, 0.3));\n",
              "      fill: #FFFFFF;\n",
              "    }\n",
              "  </style>\n",
              "\n",
              "      <script>\n",
              "        const buttonEl =\n",
              "          document.querySelector('#df-9c1e08f9-ea4a-4a4c-a81c-9a2d461f0675 button.colab-df-convert');\n",
              "        buttonEl.style.display =\n",
              "          google.colab.kernel.accessAllowed ? 'block' : 'none';\n",
              "\n",
              "        async function convertToInteractive(key) {\n",
              "          const element = document.querySelector('#df-9c1e08f9-ea4a-4a4c-a81c-9a2d461f0675');\n",
              "          const dataTable =\n",
              "            await google.colab.kernel.invokeFunction('convertToInteractive',\n",
              "                                                     [key], {});\n",
              "          if (!dataTable) return;\n",
              "\n",
              "          const docLinkHtml = 'Like what you see? Visit the ' +\n",
              "            '<a target=\"_blank\" href=https://colab.research.google.com/notebooks/data_table.ipynb>data table notebook</a>'\n",
              "            + ' to learn more about interactive tables.';\n",
              "          element.innerHTML = '';\n",
              "          dataTable['output_type'] = 'display_data';\n",
              "          await google.colab.output.renderOutput(dataTable, element);\n",
              "          const docLink = document.createElement('div');\n",
              "          docLink.innerHTML = docLinkHtml;\n",
              "          element.appendChild(docLink);\n",
              "        }\n",
              "      </script>\n",
              "    </div>\n",
              "  </div>\n",
              "  "
            ]
          },
          "metadata": {},
          "execution_count": 32
        }
      ]
    },
    {
      "cell_type": "markdown",
      "metadata": {
        "id": "6g1OmQlGoFDO"
      },
      "source": [
        "## Amostragem Estratificada "
      ]
    },
    {
      "cell_type": "code",
      "source": [
        "# Verificando quantos tipos diferentes de classe temos na amostra\n",
        "df.Store.value_counts()"
      ],
      "metadata": {
        "id": "EUwfD6QNI5K6",
        "colab": {
          "base_uri": "https://localhost:8080/"
        },
        "outputId": "c79537ae-3033-4939-a303-f3606214060c"
      },
      "execution_count": null,
      "outputs": [
        {
          "output_type": "execute_result",
          "data": {
            "text/plain": [
              "1     143\n",
              "24    143\n",
              "26    143\n",
              "27    143\n",
              "28    143\n",
              "29    143\n",
              "30    143\n",
              "31    143\n",
              "32    143\n",
              "33    143\n",
              "34    143\n",
              "35    143\n",
              "36    143\n",
              "37    143\n",
              "38    143\n",
              "39    143\n",
              "40    143\n",
              "41    143\n",
              "42    143\n",
              "43    143\n",
              "44    143\n",
              "25    143\n",
              "23    143\n",
              "2     143\n",
              "22    143\n",
              "3     143\n",
              "4     143\n",
              "5     143\n",
              "6     143\n",
              "7     143\n",
              "8     143\n",
              "9     143\n",
              "10    143\n",
              "11    143\n",
              "12    143\n",
              "13    143\n",
              "14    143\n",
              "15    143\n",
              "16    143\n",
              "17    143\n",
              "18    143\n",
              "19    143\n",
              "20    143\n",
              "21    143\n",
              "45    143\n",
              "Name: Store, dtype: int64"
            ]
          },
          "metadata": {},
          "execution_count": 34
        }
      ]
    },
    {
      "cell_type": "code",
      "source": [
        "df.sample(45, random_state = 0).Store.value_counts()"
      ],
      "metadata": {
        "colab": {
          "base_uri": "https://localhost:8080/"
        },
        "id": "7G85nH5jONZS",
        "outputId": "818853b7-f8c5-44cb-93f3-5ca749f9474b"
      },
      "execution_count": null,
      "outputs": [
        {
          "output_type": "execute_result",
          "data": {
            "text/plain": [
              "16    4\n",
              "35    3\n",
              "44    3\n",
              "37    2\n",
              "42    2\n",
              "22    2\n",
              "31    2\n",
              "8     2\n",
              "23    2\n",
              "10    2\n",
              "17    2\n",
              "20    1\n",
              "27    1\n",
              "11    1\n",
              "19    1\n",
              "7     1\n",
              "26    1\n",
              "14    1\n",
              "30    1\n",
              "28    1\n",
              "45    1\n",
              "12    1\n",
              "32    1\n",
              "36    1\n",
              "2     1\n",
              "24    1\n",
              "38    1\n",
              "15    1\n",
              "25    1\n",
              "43    1\n",
              "Name: Store, dtype: int64"
            ]
          },
          "metadata": {},
          "execution_count": 36
        }
      ]
    },
    {
      "cell_type": "code",
      "source": [
        "df.shape[0]"
      ],
      "metadata": {
        "colab": {
          "base_uri": "https://localhost:8080/"
        },
        "id": "8aMqx2HsO_ML",
        "outputId": "c385a3b3-e8b2-407e-ab45-3f59171645da"
      },
      "execution_count": null,
      "outputs": [
        {
          "output_type": "execute_result",
          "data": {
            "text/plain": [
              "6435"
            ]
          },
          "metadata": {},
          "execution_count": 43
        }
      ]
    },
    {
      "cell_type": "code",
      "source": [
        "from sklearn.model_selection import train_test_split\n",
        "\n",
        "# Amostragem estratificada usando train_test_split\n",
        "\n",
        "X1, X2 = train_test_split(df, test_size= 0.1, # tamanho da amostra X2\n",
        "                          stratify = df['Store']\n",
        "                          )\n",
        "\n"
      ],
      "metadata": {
        "id": "cMBy6A9pI-Wk"
      },
      "execution_count": null,
      "outputs": []
    },
    {
      "cell_type": "code",
      "source": [
        "X2['Store'].shape[0]"
      ],
      "metadata": {
        "colab": {
          "base_uri": "https://localhost:8080/"
        },
        "id": "B6RGweGEOv3n",
        "outputId": "e3df01b7-42f9-4ea6-dc77-a25177085920"
      },
      "execution_count": null,
      "outputs": [
        {
          "output_type": "execute_result",
          "data": {
            "text/plain": [
              "644"
            ]
          },
          "metadata": {},
          "execution_count": 45
        }
      ]
    },
    {
      "cell_type": "markdown",
      "metadata": {
        "id": "1rDmAY66L-cF"
      },
      "source": [
        "## Amostragem Clusterizada "
      ]
    },
    {
      "cell_type": "code",
      "source": [
        "# Amostragem clusterizada selecionando apenas algumas semanas da loja 20\n",
        "amostra = df[df.Store == 20].sample(20)\n",
        "amostra"
      ],
      "metadata": {
        "id": "bfj6mkN7JlEq",
        "colab": {
          "base_uri": "https://localhost:8080/",
          "height": 676
        },
        "outputId": "2ce81964-e5b5-4fbf-b026-e0d6150c0b93"
      },
      "execution_count": null,
      "outputs": [
        {
          "output_type": "execute_result",
          "data": {
            "text/plain": [
              "      Store        Date  Weekly_Sales  Holiday_Flag  Temperature  Fuel_Price  \\\n",
              "2780     20  22-04-2011    2313861.81             0        52.56       3.892   \n",
              "2728     20  23-04-2010    1878862.42             0        50.65       2.902   \n",
              "2784     20  20-05-2011    1953416.06             0        59.01       4.062   \n",
              "2787     20  10-06-2011    2135062.04             0        73.64       3.881   \n",
              "2718     20  12-02-2010    2109107.90             1        22.12       2.773   \n",
              "2750     20  24-09-2010    1789687.65             0        69.37       2.713   \n",
              "2751     20  01-10-2010    1933719.21             0        61.08       2.707   \n",
              "2801     20  16-09-2011    1979009.46             0        64.02       3.742   \n",
              "2746     20  27-08-2010    1946369.57             0        70.51       2.755   \n",
              "2742     20  30-07-2010    1955896.59             0        76.03       2.781   \n",
              "2773     20  04-03-2011    2143424.61             0        37.33       3.433   \n",
              "2806     20  21-10-2011    2104241.90             0        53.69       3.570   \n",
              "2856     20  05-10-2012    2246411.89             0        60.77       3.985   \n",
              "2739     20  09-07-2010    2107285.85             0        78.09       2.793   \n",
              "2845     20  20-07-2012    1970170.29             0        76.04       3.567   \n",
              "2843     20  06-07-2012    2358055.30             0        79.20       3.475   \n",
              "2833     20  27-04-2012    1886503.93             0        47.64       4.004   \n",
              "2852     20  07-09-2012    2080529.06             1        76.36       3.911   \n",
              "2823     20  17-02-2012    2309025.16             0        31.11       3.695   \n",
              "2859     20  26-10-2012    2031650.55             0        60.04       3.882   \n",
              "\n",
              "             CPI  Unemployment  \n",
              "2780  208.477940         7.287  \n",
              "2728  203.690559         7.856  \n",
              "2784  208.758317         7.287  \n",
              "2787  208.153509         7.287  \n",
              "2718  204.385747         8.187  \n",
              "2750  204.818213         7.527  \n",
              "2751  204.885097         7.484  \n",
              "2801  209.189389         7.274  \n",
              "2746  204.790031         7.527  \n",
              "2742  204.605272         7.527  \n",
              "2773  206.915348         7.343  \n",
              "2806  210.547325         7.082  \n",
              "2856  215.925886         7.293  \n",
              "2739  204.362566         7.527  \n",
              "2845  214.733135         7.280  \n",
              "2843  214.687351         7.280  \n",
              "2833  214.422306         7.139  \n",
              "2852  215.218957         7.280  \n",
              "2823  213.273211         6.961  \n",
              "2859  216.151590         7.293  "
            ],
            "text/html": [
              "\n",
              "  <div id=\"df-87f0ba82-0277-4ea1-8a07-cb6196a72599\">\n",
              "    <div class=\"colab-df-container\">\n",
              "      <div>\n",
              "<style scoped>\n",
              "    .dataframe tbody tr th:only-of-type {\n",
              "        vertical-align: middle;\n",
              "    }\n",
              "\n",
              "    .dataframe tbody tr th {\n",
              "        vertical-align: top;\n",
              "    }\n",
              "\n",
              "    .dataframe thead th {\n",
              "        text-align: right;\n",
              "    }\n",
              "</style>\n",
              "<table border=\"1\" class=\"dataframe\">\n",
              "  <thead>\n",
              "    <tr style=\"text-align: right;\">\n",
              "      <th></th>\n",
              "      <th>Store</th>\n",
              "      <th>Date</th>\n",
              "      <th>Weekly_Sales</th>\n",
              "      <th>Holiday_Flag</th>\n",
              "      <th>Temperature</th>\n",
              "      <th>Fuel_Price</th>\n",
              "      <th>CPI</th>\n",
              "      <th>Unemployment</th>\n",
              "    </tr>\n",
              "  </thead>\n",
              "  <tbody>\n",
              "    <tr>\n",
              "      <th>2780</th>\n",
              "      <td>20</td>\n",
              "      <td>22-04-2011</td>\n",
              "      <td>2313861.81</td>\n",
              "      <td>0</td>\n",
              "      <td>52.56</td>\n",
              "      <td>3.892</td>\n",
              "      <td>208.477940</td>\n",
              "      <td>7.287</td>\n",
              "    </tr>\n",
              "    <tr>\n",
              "      <th>2728</th>\n",
              "      <td>20</td>\n",
              "      <td>23-04-2010</td>\n",
              "      <td>1878862.42</td>\n",
              "      <td>0</td>\n",
              "      <td>50.65</td>\n",
              "      <td>2.902</td>\n",
              "      <td>203.690559</td>\n",
              "      <td>7.856</td>\n",
              "    </tr>\n",
              "    <tr>\n",
              "      <th>2784</th>\n",
              "      <td>20</td>\n",
              "      <td>20-05-2011</td>\n",
              "      <td>1953416.06</td>\n",
              "      <td>0</td>\n",
              "      <td>59.01</td>\n",
              "      <td>4.062</td>\n",
              "      <td>208.758317</td>\n",
              "      <td>7.287</td>\n",
              "    </tr>\n",
              "    <tr>\n",
              "      <th>2787</th>\n",
              "      <td>20</td>\n",
              "      <td>10-06-2011</td>\n",
              "      <td>2135062.04</td>\n",
              "      <td>0</td>\n",
              "      <td>73.64</td>\n",
              "      <td>3.881</td>\n",
              "      <td>208.153509</td>\n",
              "      <td>7.287</td>\n",
              "    </tr>\n",
              "    <tr>\n",
              "      <th>2718</th>\n",
              "      <td>20</td>\n",
              "      <td>12-02-2010</td>\n",
              "      <td>2109107.90</td>\n",
              "      <td>1</td>\n",
              "      <td>22.12</td>\n",
              "      <td>2.773</td>\n",
              "      <td>204.385747</td>\n",
              "      <td>8.187</td>\n",
              "    </tr>\n",
              "    <tr>\n",
              "      <th>2750</th>\n",
              "      <td>20</td>\n",
              "      <td>24-09-2010</td>\n",
              "      <td>1789687.65</td>\n",
              "      <td>0</td>\n",
              "      <td>69.37</td>\n",
              "      <td>2.713</td>\n",
              "      <td>204.818213</td>\n",
              "      <td>7.527</td>\n",
              "    </tr>\n",
              "    <tr>\n",
              "      <th>2751</th>\n",
              "      <td>20</td>\n",
              "      <td>01-10-2010</td>\n",
              "      <td>1933719.21</td>\n",
              "      <td>0</td>\n",
              "      <td>61.08</td>\n",
              "      <td>2.707</td>\n",
              "      <td>204.885097</td>\n",
              "      <td>7.484</td>\n",
              "    </tr>\n",
              "    <tr>\n",
              "      <th>2801</th>\n",
              "      <td>20</td>\n",
              "      <td>16-09-2011</td>\n",
              "      <td>1979009.46</td>\n",
              "      <td>0</td>\n",
              "      <td>64.02</td>\n",
              "      <td>3.742</td>\n",
              "      <td>209.189389</td>\n",
              "      <td>7.274</td>\n",
              "    </tr>\n",
              "    <tr>\n",
              "      <th>2746</th>\n",
              "      <td>20</td>\n",
              "      <td>27-08-2010</td>\n",
              "      <td>1946369.57</td>\n",
              "      <td>0</td>\n",
              "      <td>70.51</td>\n",
              "      <td>2.755</td>\n",
              "      <td>204.790031</td>\n",
              "      <td>7.527</td>\n",
              "    </tr>\n",
              "    <tr>\n",
              "      <th>2742</th>\n",
              "      <td>20</td>\n",
              "      <td>30-07-2010</td>\n",
              "      <td>1955896.59</td>\n",
              "      <td>0</td>\n",
              "      <td>76.03</td>\n",
              "      <td>2.781</td>\n",
              "      <td>204.605272</td>\n",
              "      <td>7.527</td>\n",
              "    </tr>\n",
              "    <tr>\n",
              "      <th>2773</th>\n",
              "      <td>20</td>\n",
              "      <td>04-03-2011</td>\n",
              "      <td>2143424.61</td>\n",
              "      <td>0</td>\n",
              "      <td>37.33</td>\n",
              "      <td>3.433</td>\n",
              "      <td>206.915348</td>\n",
              "      <td>7.343</td>\n",
              "    </tr>\n",
              "    <tr>\n",
              "      <th>2806</th>\n",
              "      <td>20</td>\n",
              "      <td>21-10-2011</td>\n",
              "      <td>2104241.90</td>\n",
              "      <td>0</td>\n",
              "      <td>53.69</td>\n",
              "      <td>3.570</td>\n",
              "      <td>210.547325</td>\n",
              "      <td>7.082</td>\n",
              "    </tr>\n",
              "    <tr>\n",
              "      <th>2856</th>\n",
              "      <td>20</td>\n",
              "      <td>05-10-2012</td>\n",
              "      <td>2246411.89</td>\n",
              "      <td>0</td>\n",
              "      <td>60.77</td>\n",
              "      <td>3.985</td>\n",
              "      <td>215.925886</td>\n",
              "      <td>7.293</td>\n",
              "    </tr>\n",
              "    <tr>\n",
              "      <th>2739</th>\n",
              "      <td>20</td>\n",
              "      <td>09-07-2010</td>\n",
              "      <td>2107285.85</td>\n",
              "      <td>0</td>\n",
              "      <td>78.09</td>\n",
              "      <td>2.793</td>\n",
              "      <td>204.362566</td>\n",
              "      <td>7.527</td>\n",
              "    </tr>\n",
              "    <tr>\n",
              "      <th>2845</th>\n",
              "      <td>20</td>\n",
              "      <td>20-07-2012</td>\n",
              "      <td>1970170.29</td>\n",
              "      <td>0</td>\n",
              "      <td>76.04</td>\n",
              "      <td>3.567</td>\n",
              "      <td>214.733135</td>\n",
              "      <td>7.280</td>\n",
              "    </tr>\n",
              "    <tr>\n",
              "      <th>2843</th>\n",
              "      <td>20</td>\n",
              "      <td>06-07-2012</td>\n",
              "      <td>2358055.30</td>\n",
              "      <td>0</td>\n",
              "      <td>79.20</td>\n",
              "      <td>3.475</td>\n",
              "      <td>214.687351</td>\n",
              "      <td>7.280</td>\n",
              "    </tr>\n",
              "    <tr>\n",
              "      <th>2833</th>\n",
              "      <td>20</td>\n",
              "      <td>27-04-2012</td>\n",
              "      <td>1886503.93</td>\n",
              "      <td>0</td>\n",
              "      <td>47.64</td>\n",
              "      <td>4.004</td>\n",
              "      <td>214.422306</td>\n",
              "      <td>7.139</td>\n",
              "    </tr>\n",
              "    <tr>\n",
              "      <th>2852</th>\n",
              "      <td>20</td>\n",
              "      <td>07-09-2012</td>\n",
              "      <td>2080529.06</td>\n",
              "      <td>1</td>\n",
              "      <td>76.36</td>\n",
              "      <td>3.911</td>\n",
              "      <td>215.218957</td>\n",
              "      <td>7.280</td>\n",
              "    </tr>\n",
              "    <tr>\n",
              "      <th>2823</th>\n",
              "      <td>20</td>\n",
              "      <td>17-02-2012</td>\n",
              "      <td>2309025.16</td>\n",
              "      <td>0</td>\n",
              "      <td>31.11</td>\n",
              "      <td>3.695</td>\n",
              "      <td>213.273211</td>\n",
              "      <td>6.961</td>\n",
              "    </tr>\n",
              "    <tr>\n",
              "      <th>2859</th>\n",
              "      <td>20</td>\n",
              "      <td>26-10-2012</td>\n",
              "      <td>2031650.55</td>\n",
              "      <td>0</td>\n",
              "      <td>60.04</td>\n",
              "      <td>3.882</td>\n",
              "      <td>216.151590</td>\n",
              "      <td>7.293</td>\n",
              "    </tr>\n",
              "  </tbody>\n",
              "</table>\n",
              "</div>\n",
              "      <button class=\"colab-df-convert\" onclick=\"convertToInteractive('df-87f0ba82-0277-4ea1-8a07-cb6196a72599')\"\n",
              "              title=\"Convert this dataframe to an interactive table.\"\n",
              "              style=\"display:none;\">\n",
              "        \n",
              "  <svg xmlns=\"http://www.w3.org/2000/svg\" height=\"24px\"viewBox=\"0 0 24 24\"\n",
              "       width=\"24px\">\n",
              "    <path d=\"M0 0h24v24H0V0z\" fill=\"none\"/>\n",
              "    <path d=\"M18.56 5.44l.94 2.06.94-2.06 2.06-.94-2.06-.94-.94-2.06-.94 2.06-2.06.94zm-11 1L8.5 8.5l.94-2.06 2.06-.94-2.06-.94L8.5 2.5l-.94 2.06-2.06.94zm10 10l.94 2.06.94-2.06 2.06-.94-2.06-.94-.94-2.06-.94 2.06-2.06.94z\"/><path d=\"M17.41 7.96l-1.37-1.37c-.4-.4-.92-.59-1.43-.59-.52 0-1.04.2-1.43.59L10.3 9.45l-7.72 7.72c-.78.78-.78 2.05 0 2.83L4 21.41c.39.39.9.59 1.41.59.51 0 1.02-.2 1.41-.59l7.78-7.78 2.81-2.81c.8-.78.8-2.07 0-2.86zM5.41 20L4 18.59l7.72-7.72 1.47 1.35L5.41 20z\"/>\n",
              "  </svg>\n",
              "      </button>\n",
              "      \n",
              "  <style>\n",
              "    .colab-df-container {\n",
              "      display:flex;\n",
              "      flex-wrap:wrap;\n",
              "      gap: 12px;\n",
              "    }\n",
              "\n",
              "    .colab-df-convert {\n",
              "      background-color: #E8F0FE;\n",
              "      border: none;\n",
              "      border-radius: 50%;\n",
              "      cursor: pointer;\n",
              "      display: none;\n",
              "      fill: #1967D2;\n",
              "      height: 32px;\n",
              "      padding: 0 0 0 0;\n",
              "      width: 32px;\n",
              "    }\n",
              "\n",
              "    .colab-df-convert:hover {\n",
              "      background-color: #E2EBFA;\n",
              "      box-shadow: 0px 1px 2px rgba(60, 64, 67, 0.3), 0px 1px 3px 1px rgba(60, 64, 67, 0.15);\n",
              "      fill: #174EA6;\n",
              "    }\n",
              "\n",
              "    [theme=dark] .colab-df-convert {\n",
              "      background-color: #3B4455;\n",
              "      fill: #D2E3FC;\n",
              "    }\n",
              "\n",
              "    [theme=dark] .colab-df-convert:hover {\n",
              "      background-color: #434B5C;\n",
              "      box-shadow: 0px 1px 3px 1px rgba(0, 0, 0, 0.15);\n",
              "      filter: drop-shadow(0px 1px 2px rgba(0, 0, 0, 0.3));\n",
              "      fill: #FFFFFF;\n",
              "    }\n",
              "  </style>\n",
              "\n",
              "      <script>\n",
              "        const buttonEl =\n",
              "          document.querySelector('#df-87f0ba82-0277-4ea1-8a07-cb6196a72599 button.colab-df-convert');\n",
              "        buttonEl.style.display =\n",
              "          google.colab.kernel.accessAllowed ? 'block' : 'none';\n",
              "\n",
              "        async function convertToInteractive(key) {\n",
              "          const element = document.querySelector('#df-87f0ba82-0277-4ea1-8a07-cb6196a72599');\n",
              "          const dataTable =\n",
              "            await google.colab.kernel.invokeFunction('convertToInteractive',\n",
              "                                                     [key], {});\n",
              "          if (!dataTable) return;\n",
              "\n",
              "          const docLinkHtml = 'Like what you see? Visit the ' +\n",
              "            '<a target=\"_blank\" href=https://colab.research.google.com/notebooks/data_table.ipynb>data table notebook</a>'\n",
              "            + ' to learn more about interactive tables.';\n",
              "          element.innerHTML = '';\n",
              "          dataTable['output_type'] = 'display_data';\n",
              "          await google.colab.output.renderOutput(dataTable, element);\n",
              "          const docLink = document.createElement('div');\n",
              "          docLink.innerHTML = docLinkHtml;\n",
              "          element.appendChild(docLink);\n",
              "        }\n",
              "      </script>\n",
              "    </div>\n",
              "  </div>\n",
              "  "
            ]
          },
          "metadata": {},
          "execution_count": 47
        }
      ]
    },
    {
      "cell_type": "markdown",
      "source": [
        "# Etapa 03 (PLUS)"
      ],
      "metadata": {
        "id": "Uml1d84Ap7Rv"
      }
    },
    {
      "cell_type": "markdown",
      "source": [
        "## Distribuição Normal\n",
        "\n",
        "\n",
        "<img alt=\"Correlação\" width=\"85%\" src=\"https://proeducacional.com/packages/uploads/2020/08/img_5f2ae87aaa0c2.png\">\n"
      ],
      "metadata": {
        "id": "HRrl2bQdCaM4"
      }
    },
    {
      "cell_type": "markdown",
      "source": [
        "A partir deste momento, vamos analisar somente os dados da loja 20 conforme foi pedido lá em cima. Usando todos os dados da loja 20, veja se as vendas seguem uma distribuição normal."
      ],
      "metadata": {
        "id": "mfmGB8_9CbyT"
      }
    },
    {
      "cell_type": "code",
      "source": [
        "# Filtrando o dataset e vendo seu histograma\n",
        "store20 = df[df.Store == 20]\n",
        "sns.histplot(data=store20, x='Weekly_Sales',kde=True)"
      ],
      "metadata": {
        "id": "-Tlxg_sqKxFN",
        "colab": {
          "base_uri": "https://localhost:8080/",
          "height": 297
        },
        "outputId": "7ca17721-9033-41ad-ff72-7ac888d0609d"
      },
      "execution_count": null,
      "outputs": [
        {
          "output_type": "execute_result",
          "data": {
            "text/plain": [
              "<matplotlib.axes._subplots.AxesSubplot at 0x7ff0d6e506d0>"
            ]
          },
          "metadata": {},
          "execution_count": 49
        },
        {
          "output_type": "display_data",
          "data": {
            "text/plain": [
              "<Figure size 432x288 with 1 Axes>"
            ],
            "image/png": "[encoded data removed]"
          },
          "metadata": {
            "needs_background": "light"
          }
        }
      ]
    },
    {
      "cell_type": "code",
      "source": [
        "k2, p = stats.normaltest(store20.Weekly_Sales)\n",
        "alpha = 0.001\n",
        "p\n",
        "# H0: Os dados seguem uma distribuição normal -> Rejeitamos a hipótese\n"
      ],
      "metadata": {
        "id": "a449OOodK04A",
        "colab": {
          "base_uri": "https://localhost:8080/"
        },
        "outputId": "8031d068-13f1-4bd1-d88b-999bcc44264c"
      },
      "execution_count": null,
      "outputs": [
        {
          "output_type": "execute_result",
          "data": {
            "text/plain": [
              "1.8609542254814245e-27"
            ]
          },
          "metadata": {},
          "execution_count": 51
        }
      ]
    },
    {
      "cell_type": "markdown",
      "source": [
        "<img alt=\"Correlação\" width=\"85%\" src=\"https://www.dummies.com/wp-content/uploads/451825.image0.jpg\">\n",
        "\n",
        "\n",
        "\n"
      ],
      "metadata": {
        "id": "MSyR6udPMFgR"
      }
    },
    {
      "cell_type": "markdown",
      "source": [
        "<img alt=\"Correlação\" width=\"85%\" src=\"https://www.dummies.com/wp-content/uploads/451825.image0.jpg\">\n",
        "\n",
        "\n",
        "\n"
      ],
      "metadata": {
        "id": "_JO3BYzzCyMC"
      }
    },
    {
      "cell_type": "markdown",
      "source": [
        "![](data:image/png;base64,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)"
      ],
      "metadata": {
        "id": "SMon4nUQC6G-"
      }
    },
    {
      "cell_type": "markdown",
      "source": [
        "![](https://www.statisticshowto.com/wp-content/uploads/2021/12/confidence-limits.bmp)"
      ],
      "metadata": {
        "id": "opVOqOPWC29u"
      }
    },
    {
      "cell_type": "code",
      "source": [
        "# Realizando o teste com uma amostragem aleatória simples com 25 amostras -> Teste T\n",
        "amostra = store20.sample(25, random_state = 0)\n",
        "confidence = 0.95\n",
        "dof = amostra.shape[0]-1\n",
        "\n",
        "interval_t = stats.t.interval(alpha=confidence,\n",
        "                              df=dof,\n",
        "                              loc=amostra.Weekly_Sales.mean(),\n",
        "                              scale=stats.sem(amostra.Weekly_Sales)\n",
        "                              )\n",
        "\n",
        "interval_t\n"
      ],
      "metadata": {
        "id": "MeUaufkML6qB",
        "colab": {
          "base_uri": "https://localhost:8080/"
        },
        "outputId": "efa43178-6ffa-41ae-859d-981e3b5bc5e1"
      },
      "execution_count": null,
      "outputs": [
        {
          "output_type": "execute_result",
          "data": {
            "text/plain": [
              "(2028917.2499684282, 2255093.4844315723)"
            ]
          },
          "metadata": {},
          "execution_count": 53
        }
      ]
    },
    {
      "cell_type": "code",
      "source": [
        "# Verificando a média da população\n",
        "store20.Weekly_Sales.mean()"
      ],
      "metadata": {
        "id": "Q7peZV_hNliJ",
        "colab": {
          "base_uri": "https://localhost:8080/"
        },
        "outputId": "87c8407a-1858-41e3-e2b2-2315c8b732f5"
      },
      "execution_count": null,
      "outputs": [
        {
          "output_type": "execute_result",
          "data": {
            "text/plain": [
              "2107676.8703496507"
            ]
          },
          "metadata": {},
          "execution_count": 54
        }
      ]
    },
    {
      "cell_type": "code",
      "source": [
        "# Visualizando a distribuição dos dados como ele são\n",
        "sns.histplot(data=store20,x='Weekly_Sales',kde=True)\n",
        "plt.axvline(store20['Weekly_Sales'].mean(), 0, 1,c='Red')"
      ],
      "metadata": {
        "id": "lTlVfagjDXyT",
        "colab": {
          "base_uri": "https://localhost:8080/",
          "height": 297
        },
        "outputId": "3db7b2f4-ed92-4f21-950b-1477cfac9ee9"
      },
      "execution_count": null,
      "outputs": [
        {
          "output_type": "execute_result",
          "data": {
            "text/plain": [
              "<matplotlib.lines.Line2D at 0x7ff0d6b32910>"
            ]
          },
          "metadata": {},
          "execution_count": 55
        },
        {
          "output_type": "display_data",
          "data": {
            "text/plain": [
              "<Figure size 432x288 with 1 Axes>"
            ],
            "image/png": "[encoded data removed]"
          },
          "metadata": {
            "needs_background": "light"
          }
        }
      ]
    },
    {
      "cell_type": "code",
      "source": [
        "# Visualizando a distribuição dos dados aplicando o teorema do limite central\n",
        "val_list = []\n",
        "for i in range(10000):\n",
        "  val_list.append(store20.sample(30)['Weekly_Sales'].mean())\n",
        "\n",
        "sns.histplot(np.array(val_list),kde=True)\n",
        "plt.axvline(np.array(val_list).mean(), 0, 1,c='Red')"
      ],
      "metadata": {
        "id": "yz1qjgL_DcPG",
        "colab": {
          "base_uri": "https://localhost:8080/",
          "height": 295
        },
        "outputId": "51ff8a55-b0ba-4594-d7b2-674a9ed54c70"
      },
      "execution_count": null,
      "outputs": [
        {
          "output_type": "execute_result",
          "data": {
            "text/plain": [
              "<matplotlib.lines.Line2D at 0x7ff0d9864ed0>"
            ]
          },
          "metadata": {},
          "execution_count": 56
        },
        {
          "output_type": "display_data",
          "data": {
            "text/plain": [
              "<Figure size 432x288 with 1 Axes>"
            ],
            "image/png": "[encoded data removed]"
          },
          "metadata": {
            "needs_background": "light"
          }
        }
      ]
    },
    {
      "cell_type": "code",
      "source": [
        "# Realizando o teste com uma amostragem aleatória simples com 50 amostras -> Teorema do Limite Central -> Teste Normal\n",
        "\n",
        "amostra = store20.sample(50, random_state = 0)\n",
        "confidence = 0.95\n",
        "\n",
        "interval_n = stats.norm.interval(alpha=confidence,\n",
        "                                 loc=amostra.Weekly_Sales.mean(),\n",
        "                                 scale=stats.sem(amostra.Weekly_Sales)\n",
        "                                )\n",
        "\n",
        "interval_n"
      ],
      "metadata": {
        "id": "s2mAIEvpM1_B",
        "colab": {
          "base_uri": "https://localhost:8080/"
        },
        "outputId": "33baf9df-4837-4a2b-f668-348f4db00cb5"
      },
      "execution_count": null,
      "outputs": [
        {
          "output_type": "execute_result",
          "data": {
            "text/plain": [
              "(2071485.9996257257, 2210783.6619742736)"
            ]
          },
          "metadata": {},
          "execution_count": 57
        }
      ]
    },
    {
      "cell_type": "code",
      "source": [
        "# Verificando a média da população\n",
        "store20.Weekly_Sales.mean()"
      ],
      "metadata": {
        "id": "PjHelIIvDjF2",
        "colab": {
          "base_uri": "https://localhost:8080/"
        },
        "outputId": "03b93c1e-ac33-4cad-e347-85e7a1b207f8"
      },
      "execution_count": null,
      "outputs": [
        {
          "output_type": "execute_result",
          "data": {
            "text/plain": [
              "2107676.8703496507"
            ]
          },
          "metadata": {},
          "execution_count": 58
        }
      ]
    },
    {
      "cell_type": "code",
      "source": [
        "interval_t"
      ],
      "metadata": {
        "colab": {
          "base_uri": "https://localhost:8080/"
        },
        "id": "54RzPsvLSTMM",
        "outputId": "a237b083-a416-434d-c368-5d5b07289199"
      },
      "execution_count": null,
      "outputs": [
        {
          "output_type": "execute_result",
          "data": {
            "text/plain": [
              "(2028917.2499684282, 2255093.4844315723)"
            ]
          },
          "metadata": {},
          "execution_count": 59
        }
      ]
    }
  ],
  "metadata": {
    "colab": {
      "collapsed_sections": [],
      "provenance": [],
      "include_colab_link": true
    },
    "kernelspec": {
      "display_name": "Python 3",
      "name": "python3"
    },
    "language_info": {
      "name": "python"
    }
  },
  "nbformat": 4,
  "nbformat_minor": 0
}